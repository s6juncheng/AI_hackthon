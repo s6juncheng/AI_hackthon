{
 "cells": [
  {
   "cell_type": "code",
   "execution_count": 1,
   "metadata": {
    "collapsed": true
   },
   "outputs": [],
   "source": [
    "import numpy as np\n",
    "import matplotlib.pyplot as plt\n",
    "import pandas as pd # da\n",
    "%matplotlib inline"
   ]
  },
  {
   "cell_type": "code",
   "execution_count": 2,
   "metadata": {
    "collapsed": false
   },
   "outputs": [],
   "source": [
    "from subprocess import check_output"
   ]
  },
  {
   "cell_type": "code",
   "execution_count": 3,
   "metadata": {
    "collapsed": false
   },
   "outputs": [
    {
     "name": "stdout",
     "output_type": "stream",
     "text": [
      "/data/nasif12/home_if12/chengju/project/news\n"
     ]
    }
   ],
   "source": [
    "cd .."
   ]
  },
  {
   "cell_type": "code",
   "execution_count": 4,
   "metadata": {
    "collapsed": false
   },
   "outputs": [
    {
     "data": {
      "text/plain": [
       "2282"
      ]
     },
     "execution_count": 4,
     "metadata": {},
     "output_type": "execute_result"
    }
   ],
   "source": [
    "# 2016-10-facebook-fact-check data\n",
    "posts = pd.read_csv(\"./data/2016-10-facebook-fact-check/data/facebook-fact-check.csv\")\n",
    "\n",
    "posts.head(4)\n",
    "len(posts)\n"
   ]
  },
  {
   "cell_type": "code",
   "execution_count": 5,
   "metadata": {
    "collapsed": true
   },
   "outputs": [],
   "source": [
    "fkn = posts\n",
    "d = {\"mostly true\": 1, \"mostly false\": 0, \"no factual content\": -1, \"mixture of true and false\":-2}\n",
    "fkn[\"Rating\"] = fkn[\"Rating\"].replace(d)"
   ]
  },
  {
   "cell_type": "code",
   "execution_count": 6,
   "metadata": {
    "collapsed": false
   },
   "outputs": [
    {
     "data": {
      "text/html": [
       "<div>\n",
       "<table border=\"1\" class=\"dataframe\">\n",
       "  <thead>\n",
       "    <tr style=\"text-align: right;\">\n",
       "      <th></th>\n",
       "      <th>account_id</th>\n",
       "      <th>post_id</th>\n",
       "      <th>Category</th>\n",
       "      <th>Page</th>\n",
       "      <th>Post URL</th>\n",
       "      <th>Date Published</th>\n",
       "      <th>Post Type</th>\n",
       "      <th>Rating</th>\n",
       "      <th>Debate</th>\n",
       "      <th>share_count</th>\n",
       "      <th>reaction_count</th>\n",
       "      <th>comment_count</th>\n",
       "    </tr>\n",
       "  </thead>\n",
       "  <tbody>\n",
       "    <tr>\n",
       "      <th>0</th>\n",
       "      <td>184096565021911</td>\n",
       "      <td>1035057923259100</td>\n",
       "      <td>mainstream</td>\n",
       "      <td>ABC News Politics</td>\n",
       "      <td>https://www.facebook.com/ABCNewsPolitics/posts...</td>\n",
       "      <td>2016-09-19</td>\n",
       "      <td>video</td>\n",
       "      <td>-1</td>\n",
       "      <td>NaN</td>\n",
       "      <td>NaN</td>\n",
       "      <td>146.0</td>\n",
       "      <td>15.0</td>\n",
       "    </tr>\n",
       "    <tr>\n",
       "      <th>1</th>\n",
       "      <td>184096565021911</td>\n",
       "      <td>1035269309904628</td>\n",
       "      <td>mainstream</td>\n",
       "      <td>ABC News Politics</td>\n",
       "      <td>https://www.facebook.com/ABCNewsPolitics/posts...</td>\n",
       "      <td>2016-09-19</td>\n",
       "      <td>link</td>\n",
       "      <td>1</td>\n",
       "      <td>NaN</td>\n",
       "      <td>1.0</td>\n",
       "      <td>33.0</td>\n",
       "      <td>34.0</td>\n",
       "    </tr>\n",
       "    <tr>\n",
       "      <th>2</th>\n",
       "      <td>184096565021911</td>\n",
       "      <td>1035305953234297</td>\n",
       "      <td>mainstream</td>\n",
       "      <td>ABC News Politics</td>\n",
       "      <td>https://www.facebook.com/ABCNewsPolitics/posts...</td>\n",
       "      <td>2016-09-19</td>\n",
       "      <td>link</td>\n",
       "      <td>1</td>\n",
       "      <td>NaN</td>\n",
       "      <td>34.0</td>\n",
       "      <td>63.0</td>\n",
       "      <td>27.0</td>\n",
       "    </tr>\n",
       "    <tr>\n",
       "      <th>3</th>\n",
       "      <td>184096565021911</td>\n",
       "      <td>1035322636565962</td>\n",
       "      <td>mainstream</td>\n",
       "      <td>ABC News Politics</td>\n",
       "      <td>https://www.facebook.com/ABCNewsPolitics/posts...</td>\n",
       "      <td>2016-09-19</td>\n",
       "      <td>link</td>\n",
       "      <td>1</td>\n",
       "      <td>NaN</td>\n",
       "      <td>35.0</td>\n",
       "      <td>170.0</td>\n",
       "      <td>86.0</td>\n",
       "    </tr>\n",
       "  </tbody>\n",
       "</table>\n",
       "</div>"
      ],
      "text/plain": [
       "        account_id           post_id    Category               Page  \\\n",
       "0  184096565021911  1035057923259100  mainstream  ABC News Politics   \n",
       "1  184096565021911  1035269309904628  mainstream  ABC News Politics   \n",
       "2  184096565021911  1035305953234297  mainstream  ABC News Politics   \n",
       "3  184096565021911  1035322636565962  mainstream  ABC News Politics   \n",
       "\n",
       "                                            Post URL Date Published Post Type  \\\n",
       "0  https://www.facebook.com/ABCNewsPolitics/posts...     2016-09-19     video   \n",
       "1  https://www.facebook.com/ABCNewsPolitics/posts...     2016-09-19      link   \n",
       "2  https://www.facebook.com/ABCNewsPolitics/posts...     2016-09-19      link   \n",
       "3  https://www.facebook.com/ABCNewsPolitics/posts...     2016-09-19      link   \n",
       "\n",
       "   Rating Debate  share_count  reaction_count  comment_count  \n",
       "0      -1    NaN          NaN           146.0           15.0  \n",
       "1       1    NaN          1.0            33.0           34.0  \n",
       "2       1    NaN         34.0            63.0           27.0  \n",
       "3       1    NaN         35.0           170.0           86.0  "
      ]
     },
     "execution_count": 6,
     "metadata": {},
     "output_type": "execute_result"
    }
   ],
   "source": [
    "fkn.head(4)"
   ]
  },
  {
   "cell_type": "code",
   "execution_count": 16,
   "metadata": {
    "collapsed": true
   },
   "outputs": [],
   "source": [
    "fkn = fkn[fkn[\"Rating\"]> -1]"
   ]
  },
  {
   "cell_type": "code",
   "execution_count": 17,
   "metadata": {
    "collapsed": false
   },
   "outputs": [
    {
     "data": {
      "text/plain": [
       "1773"
      ]
     },
     "execution_count": 17,
     "metadata": {},
     "output_type": "execute_result"
    }
   ],
   "source": [
    "len(fkn)"
   ]
  },
  {
   "cell_type": "code",
   "execution_count": 9,
   "metadata": {
    "collapsed": false
   },
   "outputs": [
    {
     "data": {
      "text/plain": [
       "'https://www.facebook.com/ABCNewsPolitics/posts/1035322636565962'"
      ]
     },
     "execution_count": 9,
     "metadata": {},
     "output_type": "execute_result"
    }
   ],
   "source": [
    "fkn['Post URL'][3]"
   ]
  },
  {
   "cell_type": "code",
   "execution_count": null,
   "metadata": {
    "collapsed": true
   },
   "outputs": [],
   "source": []
  },
  {
   "cell_type": "code",
   "execution_count": 32,
   "metadata": {
    "collapsed": false
   },
   "outputs": [
    {
     "name": "stdout",
     "output_type": "stream",
     "text": [
      "Types and counts of stories Rating\n",
      "mixture of true and false     245\n",
      "mostly false                  104\n",
      "mostly true                  1669\n",
      "no factual content            264\n",
      "dtype: int64\n",
      "\n",
      "Source of Posts Post Type\n",
      "link     1780\n",
      "photo     207\n",
      "text        4\n",
      "video     291\n",
      "dtype: int64\n"
     ]
    }
   ],
   "source": [
    "print(\"Types and counts of stories\", posts.groupby([\"Rating\"]).size())\n",
    "print()\n",
    "print(\"Source of Posts\", posts.groupby([\"Post Type\"]).size())"
   ]
  },
  {
   "cell_type": "code",
   "execution_count": 24,
   "metadata": {
    "collapsed": false
   },
   "outputs": [
    {
     "data": {
      "text/plain": [
       "<matplotlib.axes._subplots.AxesSubplot at 0x7f7ee8d30550>"
      ]
     },
     "execution_count": 24,
     "metadata": {},
     "output_type": "execute_result"
    },
    {
     "data": {
      "image/png": "[encoded data removed]",
      "text/plain": [
       "<matplotlib.figure.Figure at 0x7f7e5d23beb8>"
      ]
     },
     "metadata": {},
     "output_type": "display_data"
    }
   ],
   "source": [
    "posts[\"reaction_count\"].hist(bins=100)"
   ]
  },
  {
   "cell_type": "code",
   "execution_count": 27,
   "metadata": {
    "collapsed": false
   },
   "outputs": [
    {
     "data": {
      "text/plain": [
       "<matplotlib.axes._subplots.AxesSubplot at 0x7f7ee89a9978>"
      ]
     },
     "execution_count": 27,
     "metadata": {},
     "output_type": "execute_result"
    },
    {
     "data": {
      "image/png": "[encoded data removed]",
      "text/plain": [
       "<matplotlib.figure.Figure at 0x7f7ee8851438>"
      ]
     },
     "metadata": {},
     "output_type": "display_data"
    }
   ],
   "source": [
    "posts[\"comment_count\"].hist(bins=100)"
   ]
  },
  {
   "cell_type": "code",
   "execution_count": 2,
   "metadata": {
    "collapsed": false
   },
   "outputs": [
    {
     "ename": "NameError",
     "evalue": "name 'pd' is not defined",
     "output_type": "error",
     "traceback": [
      "\u001b[0;31m---------------------------------------------------------------------------\u001b[0m",
      "\u001b[0;31mNameError\u001b[0m                                 Traceback (most recent call last)",
      "\u001b[0;32m<ipython-input-2-eb854823ecde>\u001b[0m in \u001b[0;36m<module>\u001b[0;34m()\u001b[0m\n\u001b[0;32m----> 1\u001b[0;31m \u001b[0mposts\u001b[0m \u001b[0;34m=\u001b[0m \u001b[0mpd\u001b[0m\u001b[0;34m.\u001b[0m\u001b[0mread_csv\u001b[0m\u001b[0;34m(\u001b[0m\u001b[0;34m\"./data/fake_real_news_dataset/fake_or_real_news.csv\"\u001b[0m\u001b[0;34m)\u001b[0m\u001b[0;34m\u001b[0m\u001b[0m\n\u001b[0m\u001b[1;32m      2\u001b[0m \u001b[0;34m\u001b[0m\u001b[0m\n\u001b[1;32m      3\u001b[0m \u001b[0mposts\u001b[0m\u001b[0;34m.\u001b[0m\u001b[0mhead\u001b[0m\u001b[0;34m(\u001b[0m\u001b[0;36m4\u001b[0m\u001b[0;34m)\u001b[0m\u001b[0;34m\u001b[0m\u001b[0m\n",
      "\u001b[0;31mNameError\u001b[0m: name 'pd' is not defined"
     ]
    }
   ],
   "source": [
    "posts = pd.read_csv(\"./data/fake_real_news_dataset/fake_or_real_news.csv\")\n",
    "\n",
    "posts.head(4)"
   ]
  },
  {
   "cell_type": "code",
   "execution_count": 34,
   "metadata": {
    "collapsed": false
   },
   "outputs": [
    {
     "name": "stdout",
     "output_type": "stream",
     "text": [
      "Types and counts of stories label\n",
      "FAKE    3164\n",
      "REAL    3171\n",
      "dtype: int64\n"
     ]
    }
   ],
   "source": [
    "print(\"Types and counts of stories\", posts.groupby([\"label\"]).size())"
   ]
  },
  {
   "cell_type": "code",
   "execution_count": 40,
   "metadata": {
    "collapsed": false
   },
   "outputs": [],
   "source": [
    "###  Stance Detection dataset for FNC-1\n",
    "# For details of the task, see [FakeNewsChallenge.org](http://fakenewschallenge.org)\n",
    "# The data provided is `(headline, body, stance)` instances, where `stance` is one of `{unrelated, discuss, agree, disagree}`. The dataset is provided as two CSVs:\n",
    "# \n",
    "# \n",
    "# ### `train_bodies.csv`\n",
    "#\n",
    "# This file contains the body text of articles (the `articleBody` column) with corresponding IDs (`Body ID`)\n",
    "#\n",
    "# ### `train_stances.csv`\n",
    "#\n",
    "# This file contains the labeled stances (the `Stance` column) for pairs of article headlines (`Headline`) and article bodies (`Body ID`, referring to entries in `train_bodies.csv`).\n",
    "#\n",
    "# ### Distribution of the data\n",
    "#\n",
    "# The distribution of `Stance` classes in `train_stances.csv` is as follows:\n",
    "#\n",
    "# |   rows |   unrelated |   discuss |     agree |   disagree |\n",
    "# |-------:|------------:|----------:|----------:|-----------:|\n",
    "# |  49972 |    0.73131  |  0.17828  | 0.0736012 |  0.0168094 |"
   ]
  },
  {
   "cell_type": "code",
   "execution_count": 11,
   "metadata": {
    "collapsed": false
   },
   "outputs": [
    {
     "data": {
      "text/html": [
       "<div>\n",
       "<table border=\"1\" class=\"dataframe\">\n",
       "  <thead>\n",
       "    <tr style=\"text-align: right;\">\n",
       "      <th></th>\n",
       "      <th>uuid</th>\n",
       "      <th>ord_in_thread</th>\n",
       "      <th>author</th>\n",
       "      <th>published</th>\n",
       "      <th>title</th>\n",
       "      <th>text</th>\n",
       "      <th>language</th>\n",
       "      <th>crawled</th>\n",
       "      <th>site_url</th>\n",
       "      <th>country</th>\n",
       "      <th>domain_rank</th>\n",
       "      <th>thread_title</th>\n",
       "      <th>spam_score</th>\n",
       "      <th>main_img_url</th>\n",
       "      <th>replies_count</th>\n",
       "      <th>participants_count</th>\n",
       "      <th>likes</th>\n",
       "      <th>comments</th>\n",
       "      <th>shares</th>\n",
       "      <th>type</th>\n",
       "    </tr>\n",
       "  </thead>\n",
       "  <tbody>\n",
       "    <tr>\n",
       "      <th>0</th>\n",
       "      <td>6a175f46bcd24d39b3e962ad0f29936721db70db</td>\n",
       "      <td>0</td>\n",
       "      <td>Barracuda Brigade</td>\n",
       "      <td>2016-10-26T21:41:00.000+03:00</td>\n",
       "      <td>Muslims BUSTED: They Stole Millions In Gov’t B...</td>\n",
       "      <td>Print They should pay all the back all the mon...</td>\n",
       "      <td>english</td>\n",
       "      <td>2016-10-27T01:49:27.168+03:00</td>\n",
       "      <td>100percentfedup.com</td>\n",
       "      <td>US</td>\n",
       "      <td>25689.0</td>\n",
       "      <td>Muslims BUSTED: They Stole Millions In Gov’t B...</td>\n",
       "      <td>0.000</td>\n",
       "      <td>http://bb4sp.com/wp-content/uploads/2016/10/Fu...</td>\n",
       "      <td>0</td>\n",
       "      <td>1</td>\n",
       "      <td>0</td>\n",
       "      <td>0</td>\n",
       "      <td>0</td>\n",
       "      <td>bias</td>\n",
       "    </tr>\n",
       "    <tr>\n",
       "      <th>1</th>\n",
       "      <td>2bdc29d12605ef9cf3f09f9875040a7113be5d5b</td>\n",
       "      <td>0</td>\n",
       "      <td>reasoning with facts</td>\n",
       "      <td>2016-10-29T08:47:11.259+03:00</td>\n",
       "      <td>Re: Why Did Attorney General Loretta Lynch Ple...</td>\n",
       "      <td>Why Did Attorney General Loretta Lynch Plead T...</td>\n",
       "      <td>english</td>\n",
       "      <td>2016-10-29T08:47:11.259+03:00</td>\n",
       "      <td>100percentfedup.com</td>\n",
       "      <td>US</td>\n",
       "      <td>25689.0</td>\n",
       "      <td>Re: Why Did Attorney General Loretta Lynch Ple...</td>\n",
       "      <td>0.000</td>\n",
       "      <td>http://bb4sp.com/wp-content/uploads/2016/10/Fu...</td>\n",
       "      <td>0</td>\n",
       "      <td>1</td>\n",
       "      <td>0</td>\n",
       "      <td>0</td>\n",
       "      <td>0</td>\n",
       "      <td>bias</td>\n",
       "    </tr>\n",
       "    <tr>\n",
       "      <th>2</th>\n",
       "      <td>c70e149fdd53de5e61c29281100b9de0ed268bc3</td>\n",
       "      <td>0</td>\n",
       "      <td>Barracuda Brigade</td>\n",
       "      <td>2016-10-31T01:41:49.479+02:00</td>\n",
       "      <td>BREAKING: Weiner Cooperating With FBI On Hilla...</td>\n",
       "      <td>Red State : \\nFox News Sunday reported this mo...</td>\n",
       "      <td>english</td>\n",
       "      <td>2016-10-31T01:41:49.479+02:00</td>\n",
       "      <td>100percentfedup.com</td>\n",
       "      <td>US</td>\n",
       "      <td>25689.0</td>\n",
       "      <td>BREAKING: Weiner Cooperating With FBI On Hilla...</td>\n",
       "      <td>0.000</td>\n",
       "      <td>http://bb4sp.com/wp-content/uploads/2016/10/Fu...</td>\n",
       "      <td>0</td>\n",
       "      <td>1</td>\n",
       "      <td>0</td>\n",
       "      <td>0</td>\n",
       "      <td>0</td>\n",
       "      <td>bias</td>\n",
       "    </tr>\n",
       "    <tr>\n",
       "      <th>3</th>\n",
       "      <td>7cf7c15731ac2a116dd7f629bd57ea468ed70284</td>\n",
       "      <td>0</td>\n",
       "      <td>Fed Up</td>\n",
       "      <td>2016-11-01T05:22:00.000+02:00</td>\n",
       "      <td>PIN DROP SPEECH BY FATHER OF DAUGHTER Kidnappe...</td>\n",
       "      <td>Email Kayla Mueller was a prisoner and torture...</td>\n",
       "      <td>english</td>\n",
       "      <td>2016-11-01T15:46:26.304+02:00</td>\n",
       "      <td>100percentfedup.com</td>\n",
       "      <td>US</td>\n",
       "      <td>25689.0</td>\n",
       "      <td>PIN DROP SPEECH BY FATHER OF DAUGHTER Kidnappe...</td>\n",
       "      <td>0.068</td>\n",
       "      <td>http://100percentfedup.com/wp-content/uploads/...</td>\n",
       "      <td>0</td>\n",
       "      <td>0</td>\n",
       "      <td>0</td>\n",
       "      <td>0</td>\n",
       "      <td>0</td>\n",
       "      <td>bias</td>\n",
       "    </tr>\n",
       "  </tbody>\n",
       "</table>\n",
       "</div>"
      ],
      "text/plain": [
       "                                       uuid  ord_in_thread  \\\n",
       "0  6a175f46bcd24d39b3e962ad0f29936721db70db              0   \n",
       "1  2bdc29d12605ef9cf3f09f9875040a7113be5d5b              0   \n",
       "2  c70e149fdd53de5e61c29281100b9de0ed268bc3              0   \n",
       "3  7cf7c15731ac2a116dd7f629bd57ea468ed70284              0   \n",
       "\n",
       "                 author                      published  \\\n",
       "0     Barracuda Brigade  2016-10-26T21:41:00.000+03:00   \n",
       "1  reasoning with facts  2016-10-29T08:47:11.259+03:00   \n",
       "2     Barracuda Brigade  2016-10-31T01:41:49.479+02:00   \n",
       "3                Fed Up  2016-11-01T05:22:00.000+02:00   \n",
       "\n",
       "                                               title  \\\n",
       "0  Muslims BUSTED: They Stole Millions In Gov’t B...   \n",
       "1  Re: Why Did Attorney General Loretta Lynch Ple...   \n",
       "2  BREAKING: Weiner Cooperating With FBI On Hilla...   \n",
       "3  PIN DROP SPEECH BY FATHER OF DAUGHTER Kidnappe...   \n",
       "\n",
       "                                                text language  \\\n",
       "0  Print They should pay all the back all the mon...  english   \n",
       "1  Why Did Attorney General Loretta Lynch Plead T...  english   \n",
       "2  Red State : \\nFox News Sunday reported this mo...  english   \n",
       "3  Email Kayla Mueller was a prisoner and torture...  english   \n",
       "\n",
       "                         crawled             site_url country  domain_rank  \\\n",
       "0  2016-10-27T01:49:27.168+03:00  100percentfedup.com      US      25689.0   \n",
       "1  2016-10-29T08:47:11.259+03:00  100percentfedup.com      US      25689.0   \n",
       "2  2016-10-31T01:41:49.479+02:00  100percentfedup.com      US      25689.0   \n",
       "3  2016-11-01T15:46:26.304+02:00  100percentfedup.com      US      25689.0   \n",
       "\n",
       "                                        thread_title  spam_score  \\\n",
       "0  Muslims BUSTED: They Stole Millions In Gov’t B...       0.000   \n",
       "1  Re: Why Did Attorney General Loretta Lynch Ple...       0.000   \n",
       "2  BREAKING: Weiner Cooperating With FBI On Hilla...       0.000   \n",
       "3  PIN DROP SPEECH BY FATHER OF DAUGHTER Kidnappe...       0.068   \n",
       "\n",
       "                                        main_img_url  replies_count  \\\n",
       "0  http://bb4sp.com/wp-content/uploads/2016/10/Fu...              0   \n",
       "1  http://bb4sp.com/wp-content/uploads/2016/10/Fu...              0   \n",
       "2  http://bb4sp.com/wp-content/uploads/2016/10/Fu...              0   \n",
       "3  http://100percentfedup.com/wp-content/uploads/...              0   \n",
       "\n",
       "   participants_count  likes  comments  shares  type  \n",
       "0                   1      0         0       0  bias  \n",
       "1                   1      0         0       0  bias  \n",
       "2                   1      0         0       0  bias  \n",
       "3                   0      0         0       0  bias  "
      ]
     },
     "execution_count": 11,
     "metadata": {},
     "output_type": "execute_result"
    }
   ],
   "source": [
    "# 2016-10-facebook-fact-check data\n",
    "posts = pd.read_csv(\"./data/kaggle/fake.csv\")\n",
    "posts.head(4)\n"
   ]
  },
  {
   "cell_type": "code",
   "execution_count": null,
   "metadata": {
    "collapsed": true
   },
   "outputs": [],
   "source": [
    "d = {\"FAKE\": 1, \"REAL\": 0}\n",
    "fkn = posts\n",
    "fkn[\"label\"] = fkn[\"label\"].replace(d)"
   ]
  },
  {
   "cell_type": "code",
   "execution_count": 44,
   "metadata": {
    "collapsed": false
   },
   "outputs": [
    {
     "name": "stdout",
     "output_type": "stream",
     "text": [
      "Types and counts of stories type\n",
      "bias            443\n",
      "bs            11492\n",
      "conspiracy      430\n",
      "fake             19\n",
      "hate            246\n",
      "junksci         102\n",
      "satire          146\n",
      "state           121\n",
      "dtype: int64\n",
      "\n",
      "Countries of Sources country\n",
      "AU        1\n",
      "BG       19\n",
      "CA      103\n",
      "CH        1\n",
      "CO       17\n",
      "DE      224\n",
      "EE        4\n",
      "ES      100\n",
      "EU      112\n",
      "FR      207\n",
      "GB      831\n",
      "IN       23\n",
      "IO        1\n",
      "IR        7\n",
      "IS      100\n",
      "LI       10\n",
      "ME       34\n",
      "NL       55\n",
      "RU      400\n",
      "SE        1\n",
      "SG        2\n",
      "TV      201\n",
      "US    10367\n",
      "ZA        3\n",
      "dtype: int64\n",
      "\n",
      "Language of Sources language\n",
      "arabic           22\n",
      "chinese           1\n",
      "dutch             3\n",
      "english       12403\n",
      "finnish           1\n",
      "french           38\n",
      "german          111\n",
      "greek             4\n",
      "ignore            7\n",
      "italian           9\n",
      "norwegian         3\n",
      "polish            1\n",
      "portuguese       11\n",
      "russian         203\n",
      "spanish         172\n",
      "turkish          10\n",
      "dtype: int64\n"
     ]
    }
   ],
   "source": [
    "print(\"Types and counts of stories\", posts.groupby([\"type\"]).size())\n",
    "print()\n",
    "print(\"Countries of Sources\", posts.groupby([\"country\"]).size())\n",
    "print()\n",
    "print(\"Language of Sources\", posts.groupby([\"language\"]).size())"
   ]
  },
  {
   "cell_type": "code",
   "execution_count": 46,
   "metadata": {
    "collapsed": false
   },
   "outputs": [
    {
     "data": {
      "text/plain": [
       "<matplotlib.axes._subplots.AxesSubplot at 0x7f7e4f78e588>"
      ]
     },
     "execution_count": 46,
     "metadata": {},
     "output_type": "execute_result"
    },
    {
     "data": {
      "image/png": "[encoded data removed]",
      "text/plain": [
       "<matplotlib.figure.Figure at 0x7f7ee8ceb7f0>"
      ]
     },
     "metadata": {},
     "output_type": "display_data"
    }
   ],
   "source": [
    "posts[\"spam_score\"].hist(bins=100)"
   ]
  },
  {
   "cell_type": "code",
   "execution_count": 47,
   "metadata": {
    "collapsed": true
   },
   "outputs": [],
   "source": [
    "# tweeter data: matlab ."
   ]
  },
  {
   "cell_type": "markdown",
   "metadata": {},
   "source": [
    "## tf-idf of text body"
   ]
  },
  {
   "cell_type": "code",
   "execution_count": 52,
   "metadata": {
    "collapsed": true
   },
   "outputs": [],
   "source": [
    "from sklearn.feature_extraction.text import TfidfTransformer, CountVectorizer\n",
    "posts = pd.read_csv(\"./data/fake_real_news_dataset/fake_or_real_news.csv\")\n",
    "def train_validate_test_split(df, train_percent=.6, validate_percent=.2, seed=None):\n",
    "    np.random.seed(seed)\n",
    "    perm = np.random.permutation(df.index)\n",
    "    m = len(df)\n",
    "    train_end = int(train_percent * m)\n",
    "    validate_end = int(validate_percent * m) + train_end\n",
    "    train = df.ix[perm[:train_end]]\n",
    "    validate = df.ix[perm[train_end:validate_end]]\n",
    "    test = df.ix[perm[validate_end:]]\n",
    "    return train, validate, test\n",
    "train_dt, validate_dt, test_dt = train_validate_test_split(posts)"
   ]
  },
  {
   "cell_type": "code",
   "execution_count": 53,
   "metadata": {
    "collapsed": false
   },
   "outputs": [],
   "source": [
    "count_vect = CountVectorizer()\n",
    "X_train_counts = count_vect.fit_transform(train_dt.text)\n",
    "tfidf_transformer = TfidfTransformer()\n",
    "X_train_tfidf = tfidf_transformer.fit_transform(X_train_counts)\n",
    "y_train = train_dt[\"label\"].as_matrix()"
   ]
  },
  {
   "cell_type": "code",
   "execution_count": 68,
   "metadata": {
    "collapsed": false
   },
   "outputs": [],
   "source": [
    "tests = posts[\"text\"]"
   ]
  },
  {
   "cell_type": "code",
   "execution_count": 70,
   "metadata": {
    "collapsed": false
   },
   "outputs": [
    {
     "name": "stdout",
     "output_type": "stream",
     "text": [
      "— kaydee king (@kaydeeking) november 9, 2016 the lesson from tonight's dem losses: time for democrats to start listening to the voters. stop running the same establishment candidates. \n",
      "— people for bernie (@people4bernie) november 9, 2016 if dems didn't want a tight race they shouldn't have worked against bernie. \n",
      "— walker bragman (@walkerbragman) november 9, 2016 \n",
      "new york times columnist paul krugman, who was one of hillary clinton’s most outspoken surrogates during the contentious democratic primary, blamed clinton’s poor performance on green party candidate jill stein, who has so far received a negligible number of votes nationally, saying stein was the ralph nader of 2016 in preventing a clinton victory. the account @berniesteachers threw krugman’s analysis back in his face. your candidate was the issue. take responsibility. https://t.co/khyouusrfs \n",
      "— teachers for bernie (@berniesteachers) november 9, 2016 \n",
      "ana navarro, a republican who recently endorsed hillary clinton, summed up the preposterous nature of the 2016 presidential election in this tweet: gop nominated the only damn candidate who could lose to hillary clinton. democrats nominated the only damn candidate who could lose to trump \n",
      "— ana navarro (@ananavarro) november 9, 2016 \n",
      "popular left-wing facebook page the other 98%, which was pro-sanders during the primary, responded to trump’s surge by simply posting a meme of sanders’ face with the text “all this could’ve been avoided. thanks for nothing, dnc!” the meme has been shared almost 15,000 times in less than an hour: \n",
      "posted by the other 98% on tuesday, november 8, 2016 \n",
      "while bernie sanders endorsed hillary clinton just before the democratic national convention in july, many of his supporters remained adamant in their refusal to support the dnc-anointed candidate, pointing to wikileaks’ revelations that top officials at the dnc had been working behind the scenes to tip the scales in clinton’s favor by coordinating with media figures to circulate anti-sanders narratives. \n",
      "rather than attribute a potential trump presidency to the gop nominee’s perceived popularity among voters, the closeness of this election could be credited to hillary clinton’s unfavorable ratings. according to realclearpolitics, anywhere between 51 and 57 percent of voters had a negative opinion of the democratic nominee. \n",
      "as of 11 pm eastern, florida, michigan, pennsylvania, and wisconsin remain too close to call. clinton has 197 electoral votes to trump’s 187. \n",
      "\n",
      "zach cartwright is an activist and author from richmond, virginia. he enjoys writing about politics, government, and the media. send him an email at [email protected]\n"
     ]
    }
   ],
   "source": [
    "print(tests[3].lower())"
   ]
  },
  {
   "cell_type": "code",
   "execution_count": null,
   "metadata": {
    "collapsed": true
   },
   "outputs": [],
   "source": []
  }
 ],
 "metadata": {
  "anaconda-cloud": {},
  "kernelspec": {
   "display_name": "Python [default]",
   "language": "python",
   "name": "python3"
  },
  "language_info": {
   "codemirror_mode": {
    "name": "ipython",
    "version": 3
   },
   "file_extension": ".py",
   "mimetype": "text/x-python",
   "name": "python",
   "nbconvert_exporter": "python",
   "pygments_lexer": "ipython3",
   "version": "3.5.2"
  }
 },
 "nbformat": 4,
 "nbformat_minor": 0
}
