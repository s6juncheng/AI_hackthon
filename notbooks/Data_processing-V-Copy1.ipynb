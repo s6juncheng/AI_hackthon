{
 "cells": [
  {
   "cell_type": "code",
   "execution_count": 2,
   "metadata": {
    "collapsed": true
   },
   "outputs": [],
   "source": [
    "import pandas as pd\n",
    "import numpy as np\n",
    "import matplotlib.pyplot as plt\n",
    "%matplotlib inline"
   ]
  },
  {
   "cell_type": "code",
   "execution_count": 3,
   "metadata": {
    "collapsed": true
   },
   "outputs": [],
   "source": [
    "import re\n",
    "import string"
   ]
  },
  {
   "cell_type": "code",
   "execution_count": 4,
   "metadata": {
    "collapsed": false,
    "scrolled": true
   },
   "outputs": [
    {
     "name": "stdout",
     "output_type": "stream",
     "text": [
      "/data/nasif12/home_if12/chengju/project/news\n"
     ]
    }
   ],
   "source": [
    "cd .."
   ]
  },
  {
   "cell_type": "code",
   "execution_count": 5,
   "metadata": {
    "collapsed": false
   },
   "outputs": [],
   "source": [
    "fkn = pd.read_pickle(\"./data/fkn.gzip\")"
   ]
  },
  {
   "cell_type": "code",
   "execution_count": 5,
   "metadata": {
    "collapsed": false,
    "scrolled": true
   },
   "outputs": [
    {
     "data": {
      "text/html": [
       "<div>\n",
       "<table border=\"1\" class=\"dataframe\">\n",
       "  <thead>\n",
       "    <tr style=\"text-align: right;\">\n",
       "      <th></th>\n",
       "      <th>index</th>\n",
       "      <th>title</th>\n",
       "      <th>text</th>\n",
       "      <th>label</th>\n",
       "    </tr>\n",
       "  </thead>\n",
       "  <tbody>\n",
       "    <tr>\n",
       "      <th>0</th>\n",
       "      <td>8476</td>\n",
       "      <td>[you, can, smell, hillari, fear]</td>\n",
       "      <td>[daniel, greenfield, shillman, journal, fellow...</td>\n",
       "      <td>1</td>\n",
       "    </tr>\n",
       "    <tr>\n",
       "      <th>1</th>\n",
       "      <td>10294</td>\n",
       "      <td>[watch, the, exact, moment, paul, ryan, commit...</td>\n",
       "      <td>[googl, pinterest, digg, linkedin, reddit, stu...</td>\n",
       "      <td>1</td>\n",
       "    </tr>\n",
       "    <tr>\n",
       "      <th>2</th>\n",
       "      <td>3608</td>\n",
       "      <td>[kerri, go, pari, gestur, sympathi]</td>\n",
       "      <td>[us, secretari, state, john, f, kerri, said, m...</td>\n",
       "      <td>0</td>\n",
       "    </tr>\n",
       "    <tr>\n",
       "      <th>3</th>\n",
       "      <td>10142</td>\n",
       "      <td>[berni, support, twitter, erupt, anger, dnc, w...</td>\n",
       "      <td>[—, kayde, king, kaydeek, novemb, 9, 2016, the...</td>\n",
       "      <td>1</td>\n",
       "    </tr>\n",
       "    <tr>\n",
       "      <th>4</th>\n",
       "      <td>875</td>\n",
       "      <td>[the, battl, new, york, whi, this, primari, ma...</td>\n",
       "      <td>[it, primari, day, new, york, frontrunn, hilla...</td>\n",
       "      <td>0</td>\n",
       "    </tr>\n",
       "  </tbody>\n",
       "</table>\n",
       "</div>"
      ],
      "text/plain": [
       "   index                                              title  \\\n",
       "0   8476                   [you, can, smell, hillari, fear]   \n",
       "1  10294  [watch, the, exact, moment, paul, ryan, commit...   \n",
       "2   3608                [kerri, go, pari, gestur, sympathi]   \n",
       "3  10142  [berni, support, twitter, erupt, anger, dnc, w...   \n",
       "4    875  [the, battl, new, york, whi, this, primari, ma...   \n",
       "\n",
       "                                                text  label  \n",
       "0  [daniel, greenfield, shillman, journal, fellow...      1  \n",
       "1  [googl, pinterest, digg, linkedin, reddit, stu...      1  \n",
       "2  [us, secretari, state, john, f, kerri, said, m...      0  \n",
       "3  [—, kayde, king, kaydeek, novemb, 9, 2016, the...      1  \n",
       "4  [it, primari, day, new, york, frontrunn, hilla...      0  "
      ]
     },
     "execution_count": 5,
     "metadata": {},
     "output_type": "execute_result"
    }
   ],
   "source": [
    "fkn.head()"
   ]
  },
  {
   "cell_type": "code",
   "execution_count": null,
   "metadata": {
    "collapsed": true
   },
   "outputs": [],
   "source": []
  },
  {
   "cell_type": "code",
   "execution_count": null,
   "metadata": {
    "collapsed": true
   },
   "outputs": [],
   "source": []
  },
  {
   "cell_type": "code",
   "execution_count": null,
   "metadata": {
    "collapsed": true
   },
   "outputs": [],
   "source": []
  },
  {
   "cell_type": "markdown",
   "metadata": {},
   "source": [
    "## Clean text data"
   ]
  },
  {
   "cell_type": "markdown",
   "metadata": {},
   "source": [
    "## Pickle the output"
   ]
  },
  {
   "cell_type": "code",
   "execution_count": 111,
   "metadata": {
    "collapsed": true
   },
   "outputs": [],
   "source": [
    "#fkn.to_pickle(\"./data/fkn.gzip\")"
   ]
  },
  {
   "cell_type": "markdown",
   "metadata": {},
   "source": [
    "## Train validation test split"
   ]
  },
  {
   "cell_type": "code",
   "execution_count": 6,
   "metadata": {
    "collapsed": true
   },
   "outputs": [],
   "source": [
    "import numpy as np\n",
    "import pandas as pd\n",
    "\n",
    "def train_validate_test_split(df, train_percent=.6, validate_percent=.2, seed=None):\n",
    "    np.random.seed(seed)\n",
    "    perm = np.random.permutation(df.index)\n",
    "    m = len(df)\n",
    "    train_end = int(train_percent * m)\n",
    "    validate_end = int(validate_percent * m) + train_end\n",
    "    train = df.ix[perm[:train_end]]\n",
    "    validate = df.ix[perm[train_end:validate_end]]\n",
    "    test = df.ix[perm[validate_end:]]\n",
    "    return train, validate, test"
   ]
  },
  {
   "cell_type": "code",
   "execution_count": 7,
   "metadata": {
    "collapsed": true
   },
   "outputs": [],
   "source": [
    "train_dt, validate_dt, test_dt = train_validate_test_split(fkn)"
   ]
  },
  {
   "cell_type": "code",
   "execution_count": 8,
   "metadata": {
    "collapsed": false
   },
   "outputs": [
    {
     "name": "stdout",
     "output_type": "stream",
     "text": [
      "training shape (3801, 4)\n",
      "validating shape (1267, 4)\n",
      "testing shape (1267, 4)\n"
     ]
    }
   ],
   "source": [
    "print(\"training shape\", train_dt.shape)\n",
    "print(\"validating shape\", validate_dt.shape)\n",
    "print(\"testing shape\", test_dt.shape)"
   ]
  },
  {
   "cell_type": "markdown",
   "metadata": {},
   "source": [
    "## tf-idf of text body"
   ]
  },
  {
   "cell_type": "code",
   "execution_count": 9,
   "metadata": {
    "collapsed": false
   },
   "outputs": [],
   "source": [
    "from sklearn.feature_extraction.text import TfidfTransformer, CountVectorizer"
   ]
  },
  {
   "cell_type": "code",
   "execution_count": 10,
   "metadata": {
    "collapsed": false
   },
   "outputs": [
    {
     "data": {
      "text/plain": [
       "'you can smell hillari fear'"
      ]
     },
     "execution_count": 10,
     "metadata": {},
     "output_type": "execute_result"
    }
   ],
   "source": [
    "\" \".join(fkn[\"title\"][0])"
   ]
  },
  {
   "cell_type": "code",
   "execution_count": 11,
   "metadata": {
    "collapsed": true
   },
   "outputs": [],
   "source": [
    "train_dt[\"text\"] = train_dt[\"text\"].apply(lambda x: \" \".join(x))"
   ]
  },
  {
   "cell_type": "code",
   "execution_count": 12,
   "metadata": {
    "collapsed": false
   },
   "outputs": [
    {
     "data": {
      "text/plain": [
       "(3801, 49447)"
      ]
     },
     "execution_count": 12,
     "metadata": {},
     "output_type": "execute_result"
    }
   ],
   "source": [
    "count_vect = CountVectorizer()\n",
    "X_train_counts = count_vect.fit_transform(train_dt.text)\n",
    "X_train_counts.shape"
   ]
  },
  {
   "cell_type": "code",
   "execution_count": 13,
   "metadata": {
    "collapsed": false
   },
   "outputs": [],
   "source": [
    "tfidf_transformer = TfidfTransformer()\n",
    "X_train_tfidf = tfidf_transformer.fit_transform(X_train_counts)\n",
    "y_train = train_dt[\"label\"].as_matrix()"
   ]
  },
  {
   "cell_type": "code",
   "execution_count": 14,
   "metadata": {
    "collapsed": true
   },
   "outputs": [],
   "source": [
    "validate_dt[\"text\"] = validate_dt[\"text\"].apply(lambda x: \" \".join(x))"
   ]
  },
  {
   "cell_type": "code",
   "execution_count": 15,
   "metadata": {
    "collapsed": false
   },
   "outputs": [],
   "source": [
    "X_val_counts = count_vect.transform(validate_dt.text)\n",
    "X_val_tfidf = tfidf_transformer.transform(X_val_counts)\n",
    "y_val = validate_dt[\"label\"].as_matrix()"
   ]
  },
  {
   "cell_type": "code",
   "execution_count": 16,
   "metadata": {
    "collapsed": true
   },
   "outputs": [],
   "source": [
    "test_dt[\"text\"] = test_dt[\"text\"].apply(lambda x: \" \".join(x))"
   ]
  },
  {
   "cell_type": "code",
   "execution_count": 17,
   "metadata": {
    "collapsed": true
   },
   "outputs": [],
   "source": [
    "X_test_counts = count_vect.transform(test_dt.text)\n",
    "X_test_tfidf = tfidf_transformer.transform(X_test_counts)\n",
    "y_test = test_dt[\"label\"].as_matrix()"
   ]
  },
  {
   "cell_type": "code",
   "execution_count": 18,
   "metadata": {
    "collapsed": false
   },
   "outputs": [
    {
     "data": {
      "text/plain": [
       "(3801, 49447)"
      ]
     },
     "execution_count": 18,
     "metadata": {},
     "output_type": "execute_result"
    }
   ],
   "source": [
    "X_train_tfidf.shape"
   ]
  },
  {
   "cell_type": "code",
   "execution_count": 19,
   "metadata": {
    "collapsed": false
   },
   "outputs": [
    {
     "data": {
      "text/plain": [
       "(array([  2.84200000e+03,   7.84000000e+02,   9.60000000e+01,\n",
       "          4.50000000e+01,   2.00000000e+01,   4.00000000e+00,\n",
       "          4.00000000e+00,   4.00000000e+00,   0.00000000e+00,\n",
       "          2.00000000e+00]),\n",
       " array([    0. ,   601.6,  1203.2,  1804.8,  2406.4,  3008. ,  3609.6,\n",
       "         4211.2,  4812.8,  5414.4,  6016. ]),\n",
       " <a list of 10 Patch objects>)"
      ]
     },
     "execution_count": 19,
     "metadata": {},
     "output_type": "execute_result"
    },
    {
     "data": {
      "image/png": "[encoded data removed]",
      "text/plain": [
       "<matplotlib.figure.Figure at 0x7f4bf000c198>"
      ]
     },
     "metadata": {},
     "output_type": "display_data"
    }
   ],
   "source": [
    "# Document lenght\n",
    "plt.hist(X_train_counts.sum(1))"
   ]
  },
  {
   "cell_type": "code",
   "execution_count": 20,
   "metadata": {
    "collapsed": false
   },
   "outputs": [
    {
     "name": "stderr",
     "output_type": "stream",
     "text": [
      "Using TensorFlow backend.\n"
     ]
    }
   ],
   "source": [
    "from src.helper import save_sparse_csr"
   ]
  },
  {
   "cell_type": "code",
   "execution_count": 58,
   "metadata": {
    "collapsed": true
   },
   "outputs": [],
   "source": [
    "save_sparse_csr(\"./data/X_train_tfidf\", X_train_tfidf)\n",
    "save_sparse_csr(\"./data/X_val_tfidf\", X_val_tfidf)\n",
    "save_sparse_csr(\"./data/X_test_tfidf\", X_test_tfidf)"
   ]
  },
  {
   "cell_type": "code",
   "execution_count": 59,
   "metadata": {
    "collapsed": false
   },
   "outputs": [],
   "source": [
    "np.save(\"./data/y_train\", y_train)\n",
    "np.save(\"./data/y_val\", y_val)\n",
    "np.save(\"./data/y_test\", y_test)"
   ]
  },
  {
   "cell_type": "code",
   "execution_count": 144,
   "metadata": {
    "collapsed": false
   },
   "outputs": [],
   "source": [
    "# X_train_tfidf = load_sparse_csr(\"./data/X_train_tfidf.npz\")\n",
    "# X_val_tfidf = load_sparse_csr(\"./data/X_val_tfidf.npz\")\n",
    "# X_test_tfidf = load_sparse_csr(\"./data/X_test_tfidf.npz\")"
   ]
  },
  {
   "cell_type": "code",
   "execution_count": 22,
   "metadata": {
    "collapsed": false
   },
   "outputs": [
    {
     "data": {
      "text/plain": [
       "matrix([[3, 3, 3, ..., 3, 3, 3]], dtype=int64)"
      ]
     },
     "execution_count": 22,
     "metadata": {},
     "output_type": "execute_result"
    }
   ],
   "source": [
    "X_train_counts.sum(0)[X_train_counts.sum(0) == 3]"
   ]
  },
  {
   "cell_type": "markdown",
   "metadata": {
    "collapsed": true
   },
   "source": [
    "## world could "
   ]
  },
  {
   "cell_type": "code",
   "execution_count": 21,
   "metadata": {
    "collapsed": false
   },
   "outputs": [],
   "source": [
    "fkn1 = fkn[fkn[\"label\"] == 1]\n",
    "texts = fkn1[\"text\"]\n",
    "texts = texts.apply(lambda x: \" \".join(x))"
   ]
  },
  {
   "cell_type": "code",
   "execution_count": 1,
   "metadata": {
    "collapsed": false
   },
   "outputs": [
    {
     "ename": "NameError",
     "evalue": "name 'texts' is not defined",
     "output_type": "error",
     "traceback": [
      "\u001b[0;31m---------------------------------------------------------------------------\u001b[0m",
      "\u001b[0;31mNameError\u001b[0m                                 Traceback (most recent call last)",
      "\u001b[0;32m<ipython-input-1-87c8176db956>\u001b[0m in \u001b[0;36m<module>\u001b[0;34m()\u001b[0m\n\u001b[1;32m      6\u001b[0m                           \u001b[0mwidth\u001b[0m\u001b[0;34m=\u001b[0m\u001b[0;36m1200\u001b[0m\u001b[0;34m,\u001b[0m\u001b[0;34m\u001b[0m\u001b[0m\n\u001b[1;32m      7\u001b[0m                           \u001b[0mheight\u001b[0m\u001b[0;34m=\u001b[0m\u001b[0;36m1000\u001b[0m\u001b[0;34m\u001b[0m\u001b[0m\n\u001b[0;32m----> 8\u001b[0;31m                          ).generate(\" \".join(texts))\n\u001b[0m\u001b[1;32m      9\u001b[0m \u001b[0;34m\u001b[0m\u001b[0m\n\u001b[1;32m     10\u001b[0m \u001b[0;34m\u001b[0m\u001b[0m\n",
      "\u001b[0;31mNameError\u001b[0m: name 'texts' is not defined"
     ]
    }
   ],
   "source": [
    "from wordcloud import WordCloud, STOPWORDS\n",
    "\n",
    "wordcloud2 = WordCloud(\n",
    "                          stopwords=STOPWORDS,\n",
    "                          background_color='white',\n",
    "                          width=1200,\n",
    "                          height=1000\n",
    "                         ).generate(\" \".join(texts))\n",
    "\n",
    "\n",
    "plt.imshow(wordcloud2)\n",
    "plt.axis('off')\n",
    "plt.show()"
   ]
  },
  {
   "cell_type": "code",
   "execution_count": 23,
   "metadata": {
    "collapsed": false
   },
   "outputs": [
    {
     "data": {
      "image/png": "[encoded data removed]",
      "text/plain": [
       "<matplotlib.figure.Figure at 0x7fa298249390>"
      ]
     },
     "metadata": {},
     "output_type": "display_data"
    }
   ],
   "source": [
    "fkn1 = fkn[fkn[\"label\"] == 0]\n",
    "texts = fkn1[\"text\"]\n",
    "texts = texts.apply(lambda x: \" \".join(x))\n",
    "wordcloud2 = WordCloud(\n",
    "                          stopwords=STOPWORDS,\n",
    "                          background_color='white',\n",
    "                          width=1200,\n",
    "                          height=1000\n",
    "                         ).generate(\" \".join(texts))\n",
    "\n",
    "\n",
    "plt.imshow(wordcloud2)\n",
    "plt.axis('off')\n",
    "plt.show()"
   ]
  },
  {
   "cell_type": "code",
   "execution_count": null,
   "metadata": {
    "collapsed": false
   },
   "outputs": [],
   "source": [
    "fkn.head(3)"
   ]
  },
  {
   "cell_type": "markdown",
   "metadata": {},
   "source": [
    "## visulize naive bayes result\n",
    "\n",
    "BernoulliNB implements the naive Bayes training and classification algorithms for data that is distributed according to multivariate Bernoulli distributions:"
   ]
  },
  {
   "cell_type": "code",
   "execution_count": 24,
   "metadata": {
    "collapsed": true
   },
   "outputs": [],
   "source": [
    "from sklearn.naive_bayes import BernoulliNB\n",
    "from sklearn import metrics"
   ]
  },
  {
   "cell_type": "code",
   "execution_count": 28,
   "metadata": {
    "collapsed": false
   },
   "outputs": [
    {
     "data": {
      "text/plain": [
       "4839    when promin progress establish think tank cent...\n",
       "915     but realli devot purg cherish women mind favor...\n",
       "Name: text, dtype: object"
      ]
     },
     "execution_count": 28,
     "metadata": {},
     "output_type": "execute_result"
    }
   ],
   "source": [
    "train_dt[\"text\"][:2]"
   ]
  },
  {
   "cell_type": "code",
   "execution_count": 29,
   "metadata": {
    "collapsed": false
   },
   "outputs": [],
   "source": [
    "train_dt, validate_dt, test_dt = train_validate_test_split(fkn, train_percent=.79,seed=8888)"
   ]
  },
  {
   "cell_type": "code",
   "execution_count": 30,
   "metadata": {
    "collapsed": false
   },
   "outputs": [],
   "source": [
    "train_dt[\"text\"] = train_dt[\"text\"].apply(lambda x: \" \".join(x))\n",
    "count_vect = CountVectorizer(min_df=1)\n",
    "X_train_counts = count_vect.fit_transform(train_dt.text)\n",
    "\n",
    "tfidf_transformer = TfidfTransformer()\n",
    "X_train_tfidf = tfidf_transformer.fit_transform(X_train_counts)\n",
    "\n",
    "y_train = train_dt[\"label\"].as_matrix()\n",
    "validate_dt[\"text\"] = validate_dt[\"text\"].apply(lambda x: \" \".join(x))\n",
    "\n",
    "X_val_counts = count_vect.transform(validate_dt.text)\n",
    "X_val_tfidf = tfidf_transformer.transform(X_val_counts)\n",
    "y_val = validate_dt[\"label\"].as_matrix()\n",
    "\n",
    "# test_dt[\"text\"] = test_dt[\"text\"].apply(lambda x: \" \".join(x))\n",
    "\n",
    "# X_test_counts = count_vect.transform(test_dt.text)\n",
    "# X_test_tfidf = tfidf_transformer.transform(X_test_counts)\n",
    "# y_test = test_dt[\"label\"].as_matrix()"
   ]
  },
  {
   "cell_type": "code",
   "execution_count": 31,
   "metadata": {
    "collapsed": false
   },
   "outputs": [],
   "source": [
    "t_y = y_train - y_train.mean()\n",
    "t_x = X_train_counts - X_train_counts.mean(axis=0)\n",
    "#/[X_train_counts>0].sum(axis=0)"
   ]
  },
  {
   "cell_type": "code",
   "execution_count": 32,
   "metadata": {
    "collapsed": false
   },
   "outputs": [
    {
     "name": "stdout",
     "output_type": "stream",
     "text": [
      "(5004, 57932)\n",
      "(5004,)\n"
     ]
    }
   ],
   "source": [
    "print(t_x.shape)\n",
    "print(t_y.shape)\n",
    "covXY = np.dot(t_x.T,t_y.reshape(-1))/(X_train_counts).sum(axis=0)"
   ]
  },
  {
   "cell_type": "code",
   "execution_count": 33,
   "metadata": {
    "collapsed": false
   },
   "outputs": [
    {
     "name": "stdout",
     "output_type": "stream",
     "text": [
      "[0 0 0 0 0 0 0 0 0 0]\n",
      "[-5.  -4.4 -3.8 -3.2 -2.6 -2.  -1.4 -0.8 -0.2  0.4  1. ]\n"
     ]
    }
   ],
   "source": [
    "g, binedge = np.histogram(np.squeeze(np.asarray(covXY)),bins = 10,range=(-.00005, .00001))\n",
    "print(g)\n",
    "print(binedge*1e5)"
   ]
  },
  {
   "cell_type": "code",
   "execution_count": 34,
   "metadata": {
    "collapsed": false,
    "scrolled": true
   },
   "outputs": [],
   "source": [
    "def BernoulliNB_sum(X_tr, y_tr, X_v,y_v, alpha=1.0, plotROC = False):\n",
    "    clf = BernoulliNB(alpha)\n",
    "    clf.fit(X_tr, y_tr)\n",
    "    predict_train = clf.predict(X_tr)\n",
    "    precision_train, recall_train, _ = metrics.precision_recall_curve(y_tr, predict_train)\n",
    "\n",
    "    \n",
    "    predict_val = clf.predict(X_v)\n",
    "    precision_val, recall_val, _ = metrics.precision_recall_curve(y_v, predict_val)\n",
    "    \n",
    "    fpr_train, tpr_train, thresholds = metrics.roc_curve(y_tr, predict_train)\n",
    "    fpr_val, tpr_val, thresholds = metrics.roc_curve(y_v, predict_val)\n",
    "    \n",
    "    auc_train = metrics.auc(fpr_train, tpr_train)\n",
    "    auc_val = metrics.auc(fpr_val, tpr_val)\n",
    "\n",
    "    prd_tr = metrics.accuracy_score(y_tr, predict_train) # metrics.auc(fpr_train, tpr_train)\n",
    "    prd_v = metrics.accuracy_score(y_v, predict_val)# metrics.auc(fpr_val, tpr_val)\n",
    "    \n",
    "    if plotROC:\n",
    "        print(\"performance for the training data\")\n",
    "        print(metrics.classification_report(y_tr, predict_train))\n",
    "        print(\"performance for the test data\")\n",
    "        print(metrics.classification_report(y_v, predict_val))\n",
    "\n",
    "        \n",
    "        plt.plot(fpr_train, tpr_train,\n",
    "                label='Training ROC curve (area = %0.2f)' % auc_train)\n",
    "        plt.plot(fpr_val, tpr_val, \n",
    "                label='Validation ROC curve (area = %0.2f)' % auc_val)\n",
    "        plt.xlabel('False Positive Rate')\n",
    "        plt.ylabel('True Positive Rate')\n",
    "        plt.title(\"ROC curve\")\n",
    "        plt.legend(loc='lower right')\n",
    "        plt.show()\n",
    "    return prd_tr,prd_v\n",
    "prd_tr,prd_v = BernoulliNB_sum(X_train_counts, y_train, X_val_counts,y_val)"
   ]
  },
  {
   "cell_type": "code",
   "execution_count": 35,
   "metadata": {
    "collapsed": false
   },
   "outputs": [
    {
     "name": "stdout",
     "output_type": "stream",
     "text": [
      "[-6.78736419 -6.76974978 -6.23121607 -4.97029569 -4.82278905 -4.48773249\n",
      " -2.59156018 -1.69575235 -0.57959568 -0.57817088]\n"
     ]
    }
   ],
   "source": [
    "prd_e = np.zeros((10,2))\n",
    "alphas = np.random.rand(10)\n",
    "alpha_scale = 7\n",
    "alphas = (np.sort(alphas)*alpha_scale) - alpha_scale\n",
    "# alpha_scale\n",
    "print(alphas.T)"
   ]
  },
  {
   "cell_type": "code",
   "execution_count": 36,
   "metadata": {
    "collapsed": false,
    "scrolled": true
   },
   "outputs": [
    {
     "name": "stdout",
     "output_type": "stream",
     "text": [
      "[-6.78736419 -6.76974978 -6.23121607 -4.97029569 -4.82278905 -4.48773249\n",
      " -2.59156018 -1.69575235 -0.57959568 -0.57817088]\n",
      "5e-06\n"
     ]
    },
    {
     "data": {
      "image/png": "[encoded data removed]",
      "text/plain": [
       "<matplotlib.figure.Figure at 0x7f8ad1c4ea58>"
      ]
     },
     "metadata": {},
     "output_type": "display_data"
    }
   ],
   "source": [
    "for i in np.arange(10):\n",
    "    prd_e[i,0],prd_e[i,1] = BernoulliNB_sum(X_train_counts, y_train, X_val_counts,y_val, alpha= 10**alphas[i])\n",
    "plt.plot(alphas, prd_e)\n",
    "print(alphas)\n",
    "alpha = 5e-6\n",
    "print(alpha)"
   ]
  },
  {
   "cell_type": "markdown",
   "metadata": {
    "collapsed": true
   },
   "source": [
    "## the SVM \n",
    "\n",
    "hyper parameter: \n",
    "gamma: Kernel coefficient of the rbf, ‘auto’ : 1/n_features, check: 10**[0 5] /n_features\n",
    "\n",
    "C: Penalty parameter C of the error term. ‘auto’ : C = 1, check: 1e[-2 0] \n"
   ]
  },
  {
   "cell_type": "code",
   "execution_count": 20,
   "metadata": {
    "collapsed": false
   },
   "outputs": [],
   "source": [
    "from sklearn.svm import SVC"
   ]
  },
  {
   "cell_type": "code",
   "execution_count": 21,
   "metadata": {
    "collapsed": true
   },
   "outputs": [],
   "source": [
    "def SVM_sum(X_tr, y_tr, X_v,y_v, gammas=1.0, Cs =1,  plotROC = False):\n",
    "    clf = SVC(gamma=(gammas/len(y_tr)), C = Cs)\n",
    "    clf.fit(X_tr, y_tr)\n",
    "    predict_train = clf.predict(X_tr)\n",
    "    precision_train, recall_train, _ = metrics.precision_recall_curve(y_tr, predict_train)\n",
    "\n",
    "    \n",
    "    predict_val = clf.predict(X_v)\n",
    "    precision_val, recall_val, _ = metrics.precision_recall_curve(y_v, predict_val)\n",
    "    \n",
    "    fpr_train, tpr_train, thresholds = metrics.roc_curve(y_tr, predict_train)\n",
    "    fpr_val, tpr_val, thresholds = metrics.roc_curve(y_v, predict_val)\n",
    "    \n",
    "    prd_tr = metrics.accuracy_score(y_tr, predict_train) # metrics.auc(fpr_train, tpr_train)\n",
    "    prd_v = metrics.accuracy_score(y_v, predict_val)# metrics.auc(fpr_val, tpr_val)\n",
    "    \n",
    "    if plotROC:\n",
    "        print(\"performance for the training data\")\n",
    "        print(metrics.classification_report(y_tr, predict_train))\n",
    "        print(\"performance for the test data\")\n",
    "        print(metrics.classification_report(y_v, predict_val))\n",
    "        \n",
    "        auc_train = metrics.auc(fpr_train, tpr_train)\n",
    "        auc_val = metrics.auc(fpr_val, tpr_val)\n",
    "\n",
    "\n",
    "        \n",
    "        plt.plot(fpr_train, tpr_train,\n",
    "                label='Training ROC curve (area = %0.2f)' % auc_train)\n",
    "        plt.plot(fpr_val, tpr_val, \n",
    "                label='Validation ROC curve (area = %0.2f)' % auc_val)\n",
    "        plt.xlabel('False Positive Rate')\n",
    "        plt.ylabel('True Positive Rate')\n",
    "        plt.title(\"ROC curve\")\n",
    "        plt.legend(loc='lower right')\n",
    "        plt.show()\n",
    "    return prd_tr,prd_v"
   ]
  },
  {
   "cell_type": "code",
   "execution_count": 22,
   "metadata": {
    "collapsed": false
   },
   "outputs": [
    {
     "name": "stdout",
     "output_type": "stream",
     "text": [
      "Gammas\n",
      "[ 0.          1.55489043  1.74242265  2.64781262  2.73135104  2.96401754\n",
      "  3.57876457  4.09028055  4.19058525  4.40533906]\n",
      "CsS\n",
      "[-1.79968227 -1.74509278 -1.53922985 -1.273996   -1.15186188 -1.01939434\n",
      " -0.94172986 -0.46390417 -0.32380972  0.        ]\n"
     ]
    }
   ],
   "source": [
    "prd_tr = np.zeros((10,10))\n",
    "prd_v = np.zeros((10,10))\n",
    "Gammas = np.sort(np.random.rand(10))\n",
    "Gammas[0] = 0\n",
    "Gamma_scale = 5\n",
    "Gammas = (np.sort(Gammas)*Gamma_scale)\n",
    "# alpha_scale\n",
    "print(\"Gammas\")\n",
    "print(Gammas.T)\n",
    "CsS = np.sort(np.random.rand(10))\n",
    "C_scale = 2\n",
    "CsS[-1] = 1\n",
    "CsS = (np.sort(CsS)*C_scale)-2\n",
    "# alpha_scale\n",
    "print(\"CsS\")\n",
    "print(CsS.T)"
   ]
  },
  {
   "cell_type": "code",
   "execution_count": null,
   "metadata": {
    "collapsed": false
   },
   "outputs": [],
   "source": [
    "for i in np.arange(10):\n",
    "    for j in np.arange(10):\n",
    "        prd_tr[i,j],prd_v[i,j] = SVM_sum(X_train_counts, y_train, X_val_counts,y_val, gammas=10**Gammas[i], Cs = 10**CsS[i])\n",
    "    print(i)\n",
    "print(\"training data:\")\n",
    "print(prd_tr)\n",
    "print(\"test data:\")\n",
    "print(prd_v)\n"
   ]
  },
  {
   "cell_type": "code",
   "execution_count": 42,
   "metadata": {
    "collapsed": false
   },
   "outputs": [
    {
     "name": "stdout",
     "output_type": "stream",
     "text": [
      "performance for the training data\n",
      "             precision    recall  f1-score   support\n",
      "\n",
      "          0       0.94      0.66      0.77      2512\n",
      "          1       0.73      0.96      0.83      2492\n",
      "\n",
      "avg / total       0.84      0.81      0.80      5004\n",
      "\n",
      "performance for the test data\n",
      "             precision    recall  f1-score   support\n",
      "\n",
      "          0       0.94      0.64      0.76       629\n",
      "          1       0.73      0.96      0.83       638\n",
      "\n",
      "avg / total       0.83      0.80      0.79      1267\n",
      "\n"
     ]
    }
   ],
   "source": [
    "predict_train = Sclf.predict(X_train_counts)\n",
    "precision_train, recall_train, _ = metrics.precision_recall_curve(y_train, predict_train)\n",
    "\n",
    "\n",
    "predict_val = Sclf.predict(X_val_counts)\n",
    "precision_val, recall_val, _ = metrics.precision_recall_curve(y_val, predict_val)\n",
    "    \n",
    "fpr_train, tpr_train, thresholds = metrics.roc_curve(y_train, predict_train)\n",
    "fpr_val, tpr_val, thresholds = metrics.roc_curve(y_val, predict_val)\n",
    "\n",
    "print(\"performance for the training data\")\n",
    "print(metrics.classification_report(y_train, predict_train))\n",
    "print(\"performance for the test data\")\n",
    "print(metrics.classification_report(y_val, predict_val))\n"
   ]
  },
  {
   "cell_type": "code",
   "execution_count": 44,
   "metadata": {
    "collapsed": false
   },
   "outputs": [
    {
     "data": {
      "image/png": "[encoded data removed]",
      "text/plain": [
       "<matplotlib.figure.Figure at 0x7f8ad10ed668>"
      ]
     },
     "metadata": {},
     "output_type": "display_data"
    }
   ],
   "source": [
    "auc_train = metrics.auc(fpr_train, tpr_train)\n",
    "auc_val = metrics.auc(fpr_val, tpr_val)\n",
    "plt.plot(fpr_train, tpr_train,\n",
    "        label='Training ROC curve (area = %0.2f)' % auc_train)\n",
    "plt.plot(fpr_val, tpr_val, \n",
    "        label='Validation ROC curve (area = %0.2f)' % auc_val)\n",
    "plt.xlabel('False Positive Rate')\n",
    "plt.ylabel('True Positive Rate')\n",
    "plt.title(\"ROC curve\")\n",
    "plt.legend(loc='lower right')\n",
    "plt.show()"
   ]
  },
  {
   "cell_type": "code",
   "execution_count": null,
   "metadata": {
    "collapsed": true
   },
   "outputs": [],
   "source": []
  }
 ],
 "metadata": {
  "anaconda-cloud": {},
  "kernelspec": {
   "display_name": "Python [default]",
   "language": "python",
   "name": "python3"
  },
  "language_info": {
   "codemirror_mode": {
    "name": "ipython",
    "version": 3
   },
   "file_extension": ".py",
   "mimetype": "text/x-python",
   "name": "python",
   "nbconvert_exporter": "python",
   "pygments_lexer": "ipython3",
   "version": "3.5.2"
  }
 },
 "nbformat": 4,
 "nbformat_minor": 0
}
