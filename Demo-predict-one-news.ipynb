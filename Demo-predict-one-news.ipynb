{
 "cells": [
  {
   "cell_type": "markdown",
   "metadata": {},
   "source": [
    "## Function to parse url"
   ]
  },
  {
   "cell_type": "code",
   "execution_count": 1,
   "metadata": {
    "collapsed": true
   },
   "outputs": [],
   "source": [
    "from newspaper import Article"
   ]
  },
  {
   "cell_type": "code",
   "execution_count": 2,
   "metadata": {
    "collapsed": true
   },
   "outputs": [],
   "source": [
    "url = 'http://fox13now.com/2013/12/30/new-year-new-laws-obamacare-pot-guns-and-drones/'"
   ]
  },
  {
   "cell_type": "code",
   "execution_count": 50,
   "metadata": {
    "collapsed": true
   },
   "outputs": [],
   "source": [
    "def get_text_title(url):\n",
    "    article = Article(url)\n",
    "    article.download()\n",
    "    article.parse()\n",
    "    text = article.text\n",
    "    title = article.title\n",
    "    return title, text"
   ]
  },
  {
   "cell_type": "code",
   "execution_count": 13,
   "metadata": {
    "collapsed": true
   },
   "outputs": [],
   "source": [
    "title, text = get_text_title(url)"
   ]
  },
  {
   "cell_type": "markdown",
   "metadata": {},
   "source": [
    "## Preprocess"
   ]
  },
  {
   "cell_type": "code",
   "execution_count": 19,
   "metadata": {
    "collapsed": false
   },
   "outputs": [],
   "source": [
    "import re\n",
    "import string\n",
    "from nltk.tokenize import word_tokenize\n",
    "from nltk.corpus import stopwords\n",
    "from nltk.stem.snowball import SnowballStemmer\n",
    "\n",
    "def rm_punctuation(tokenized):\n",
    "    regex = re.compile('[%s]' % re.escape(string.punctuation)) \n",
    "    new_tokenized = []\n",
    "    for token in tokenized:\n",
    "        new_token = regex.sub(u'', token)\n",
    "        if not new_token == u'':\n",
    "            new_tokenized.append(new_token)\n",
    "    return new_tokenized\n",
    "\n",
    "def rm_stopwords(words):\n",
    "    new_words = []\n",
    "    for word in words:\n",
    "        if not word in stopwords.words('english'):\n",
    "            new_words.append(word)\n",
    "    return new_words\n",
    "\n",
    "def stemming(words):\n",
    "    snowball = SnowballStemmer('english')\n",
    "    new_words = []\n",
    "    for word in words:\n",
    "        new_words.append(snowball.stem(word))\n",
    "    return new_words\n",
    "\n",
    "def clean_text(text):\n",
    "    # tokenize\n",
    "    tokenized = word_tokenize(text)\n",
    "    punc_rmd = rm_punctuation(tokenized)\n",
    "    stw_rmd = rm_stopwords(punc_rmd)\n",
    "    stmd = stemming(stw_rmd)\n",
    "    new_text = \" \".join(stmd)\n",
    "    return new_text"
   ]
  },
  {
   "cell_type": "code",
   "execution_count": 22,
   "metadata": {
    "collapsed": false
   },
   "outputs": [
    {
     "data": {
      "text/plain": [
       "'new year new law obamacar pot gun drone'"
      ]
     },
     "execution_count": 22,
     "metadata": {},
     "output_type": "execute_result"
    }
   ],
   "source": [
    "clean_text(title)"
   ]
  },
  {
   "cell_type": "markdown",
   "metadata": {},
   "source": [
    "## Embedding"
   ]
  },
  {
   "cell_type": "code",
   "execution_count": 34,
   "metadata": {
    "collapsed": true
   },
   "outputs": [],
   "source": [
    "import pickle\n",
    "from keras.preprocessing.sequence import pad_sequences"
   ]
  },
  {
   "cell_type": "code",
   "execution_count": 29,
   "metadata": {
    "collapsed": false
   },
   "outputs": [
    {
     "name": "stderr",
     "output_type": "stream",
     "text": [
      "Using TensorFlow backend.\n"
     ]
    }
   ],
   "source": [
    "tokenizer = pickle.load(open(\"./data/tokenizer.pkl\", 'rb'))"
   ]
  },
  {
   "cell_type": "code",
   "execution_count": 62,
   "metadata": {
    "collapsed": true
   },
   "outputs": [],
   "source": [
    "def word2indx(text, trained_tokenizer, max_len=2000):\n",
    "    if isinstance(text, str):\n",
    "        # single string text\n",
    "        text = [text]\n",
    "    tokenizer = trained_tokenizer\n",
    "    sequences = tokenizer.texts_to_sequences(text)\n",
    "    data = pad_sequences(sequences, maxlen=max_len)\n",
    "    return data"
   ]
  },
  {
   "cell_type": "code",
   "execution_count": 67,
   "metadata": {
    "collapsed": false
   },
   "outputs": [
    {
     "data": {
      "text/plain": [
       "array([[    0,     0,     0, ..., 18190,   691,     6]], dtype=int32)"
      ]
     },
     "execution_count": 67,
     "metadata": {},
     "output_type": "execute_result"
    }
   ],
   "source": [
    "inded = word2indx(text, tokenizer)\n",
    "inded"
   ]
  },
  {
   "cell_type": "markdown",
   "metadata": {},
   "source": [
    "## Make prediction"
   ]
  },
  {
   "cell_type": "code",
   "execution_count": 69,
   "metadata": {
    "collapsed": false
   },
   "outputs": [],
   "source": [
    "from keras.models import load_model\n",
    "\n",
    "model = load_model(\"./data/models/CNN_LSTM2\")"
   ]
  },
  {
   "cell_type": "code",
   "execution_count": 101,
   "metadata": {
    "collapsed": false
   },
   "outputs": [],
   "source": [
    "def predict_from_index(model, index):\n",
    "    prediction = model.predict(index).flatten()\n",
    "    prob_true = prediction[0] * 100\n",
    "    prob_false = prediction[1] * 100\n",
    "    if prob_true >= 0.7:\n",
    "        print(\"Likely a true news! (%0.3f percent confident)\" % prob_true)\n",
    "    elif prob_true >= 0.5:\n",
    "        print(\"Maybe a true news, not every sure (%0.3f percent confident)\")\n",
    "    elif prob_true < 0.5 & prob_true > 0.3:\n",
    "        print(\"This is mabye a fake news (%0.3f percent confident)\" % prob_false)\n",
    "    elif prob_false >= 0.7:\n",
    "        print(\"Attention! Likely a fake news! (%0.3f percent confident)\"% prob_false)\n",
    "    else:\n",
    "        print(\"We are %0.3f percent confident that this is a true news\" % prob_true)"
   ]
  },
  {
   "cell_type": "code",
   "execution_count": 102,
   "metadata": {
    "collapsed": false
   },
   "outputs": [
    {
     "name": "stdout",
     "output_type": "stream",
     "text": [
      "Likely a true news! (99.831 percent confident)\n"
     ]
    }
   ],
   "source": [
    "predict_from_index(model, inded)"
   ]
  },
  {
   "cell_type": "code",
   "execution_count": 103,
   "metadata": {
    "collapsed": true
   },
   "outputs": [],
   "source": [
    "def predict_news(model, url, trained_tokenizer, max_len=2000):\n",
    "    title, text = get_text_title(url)\n",
    "    cleaned = clean_text(text)\n",
    "    index = word2indx(cleaned, trained_tokenizer, max_len)\n",
    "    predict_from_index(model, index)"
   ]
  },
  {
   "cell_type": "code",
   "execution_count": 100,
   "metadata": {
    "collapsed": false
   },
   "outputs": [
    {
     "name": "stdout",
     "output_type": "stream",
     "text": [
      "This is likely to be a true news (98.860 percent confident)\n"
     ]
    }
   ],
   "source": [
    "predict_news(model, url, tokenizer)"
   ]
  },
  {
   "cell_type": "markdown",
   "metadata": {},
   "source": [
    "## Try out"
   ]
  },
  {
   "cell_type": "code",
   "execution_count": 52,
   "metadata": {
    "collapsed": false,
    "scrolled": true
   },
   "outputs": [],
   "source": [
    "from src.prediction import predict_news, get_text_title\n",
    "from keras.models import load_model\n",
    "import pickle"
   ]
  },
  {
   "cell_type": "code",
   "execution_count": 13,
   "metadata": {
    "collapsed": false
   },
   "outputs": [],
   "source": [
    "model = load_model(\"./data/models/CNN_LSTM2\")\n",
    "tokenizer = pickle.load(open(\"./data/tokenizer.pkl\", 'rb'))                  "
   ]
  },
  {
   "cell_type": "code",
   "execution_count": 59,
   "metadata": {
    "collapsed": false
   },
   "outputs": [
    {
     "data": {
      "text/plain": [
       "'Micro karaoke is an indispensable device in the karaoke set; it plays a relatively important role to make great sound. However, in order to choose the best karaoke microphone or the best mic for YouTube, you should refer to the post which will help you find the best way to choose the best one. Most people prefer wireless microphones, because they are very convenient and they can move in the room without having to worry about the wire. However, when you buy this type of microphone we must pay attention to the following points, because it directly affects the problem of ear or microphone. Follow the instructions to choose the best wireless microphone set for you.\\n\\n1 Wireless microphone is only convenient in wide and non-entangled space\\n\\nAccording to many years’ experiences of supply and installation of karaoke, we find that with the narrow room area, the best solution is to choose a wired microphone, because the wireless mic usually has the phenomenon of howling in the narrow space. Furthermore, with the small room you use wired mic will not move much so you do not have to worry about rope problems.\\n\\n2 Check Micro\\n\\nThere are at least two different sets of microphones should be tested. In fact, the sales place has echo, repeat and delay, so listen to any good and the same difficult to distinguish. Therefore, in order to better distinguish, you should ask the seller to do the requests such as reduce delay, repeat, to echo the average. You also should turn on the mic when the volume of the whole orchestra is on average, if you hear the echo through the speaker is because the receiver has no anti-interference circuit.\\n\\n3 Audition with the orchestra at the store\\n\\nIf you are finding the best mic for YouTube which will help you sing better on internet, the step is one of the most important. Therefore, before deciding to buy, you should take the micro around; find where there are obstacles to test whether the receiver of the wireless microphone is strong enough.\\n\\n4 At home, open the stage with a small volume of music, mainly for listening and checking the microphone.\\n\\nYou should be plugged in the same place. For example, mic 1 and mic 2 line mix together. Furthermore, try to spend at least 30 minutes to test and not decide right after singing a few test sentences, maybe when you start to disobedient and very bad but slowly discover the good points of this micro.\\n\\n5 The final and most important test: reduce echo, delay and repeat to 0, try pure mic.\\n\\nWith this test, you will hear most clearly the sound quality of each mic. Furthermore, when compare the sensitivity by singing a note and the mic away from the mouth, a mic with good sensitivity will gradually reduce the sound in the distance, 15cm still sound suck. Mic type can usually sing very well if the mic near the mouth is less than 3 cm, but giving a 5cm will suddenly reduce the suction level, and the 15cm is not heard at all.'"
      ]
     },
     "execution_count": 59,
     "metadata": {},
     "output_type": "execute_result"
    }
   ],
   "source": [
    "url = \"http://abcnews.com.co/way-choose-best-karaoke-microphone/\"\n",
    "title, text = get_text_title(url)\n",
    "text"
   ]
  },
  {
   "cell_type": "markdown",
   "metadata": {},
   "source": [
    "## Fake news websites"
   ]
  },
  {
   "cell_type": "markdown",
   "metadata": {},
   "source": [
    "247NewsMedia.com\n",
    "http://www.rappler.com/nation/173832-cbcp-list-websites-fake-news"
   ]
  },
  {
   "cell_type": "code",
   "execution_count": 67,
   "metadata": {
    "collapsed": true
   },
   "outputs": [],
   "source": [
    "url = \"http://abcnews.com.co/specifics-tugboats-maritime-law/\""
   ]
  },
  {
   "cell_type": "code",
   "execution_count": 68,
   "metadata": {
    "collapsed": false,
    "scrolled": true
   },
   "outputs": [
    {
     "name": "stdout",
     "output_type": "stream",
     "text": [
      "Attention! Likely a fake news! (99.537 percent confident)\n"
     ]
    }
   ],
   "source": [
    "predict_news(model, url, tokenizer)"
   ]
  },
  {
   "cell_type": "code",
   "execution_count": 69,
   "metadata": {
    "collapsed": true
   },
   "outputs": [],
   "source": [
    "from keras.utils import plot_model"
   ]
  },
  {
   "cell_type": "code",
   "execution_count": 70,
   "metadata": {
    "collapsed": true
   },
   "outputs": [],
   "source": [
    "plot_model(model, to_file=\"./data/model.png\")"
   ]
  },
  {
   "cell_type": "code",
   "execution_count": null,
   "metadata": {
    "collapsed": true
   },
   "outputs": [],
   "source": []
  }
 ],
 "metadata": {
  "anaconda-cloud": {},
  "kernelspec": {
   "display_name": "Python [default]",
   "language": "python",
   "name": "python3"
  },
  "language_info": {
   "codemirror_mode": {
    "name": "ipython",
    "version": 3
   },
   "file_extension": ".py",
   "mimetype": "text/x-python",
   "name": "python",
   "nbconvert_exporter": "python",
   "pygments_lexer": "ipython3",
   "version": "3.5.2"
  }
 },
 "nbformat": 4,
 "nbformat_minor": 0
}
